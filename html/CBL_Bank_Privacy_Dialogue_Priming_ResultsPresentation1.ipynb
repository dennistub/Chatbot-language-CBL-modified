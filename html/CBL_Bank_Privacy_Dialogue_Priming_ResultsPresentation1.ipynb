{
 "cells": [
  {
   "cell_type": "markdown",
   "metadata": {},
   "source": [
    "# Privacy Dialogue\n",
    "\n",
    "This jupyter notebook documents the analysis of a chatbot experiment conducted on the 1st of July 2020. In the experiment we compare five conditions: (1) a control condition, (2) a privacy condition in which users have the choice to delete their data from the interaction with priming / a reason \"to protect you privacy\", (3) a privacy condition in which users have the choice to delete their data from the interaction without priming, (4) a privacy condition in which users are offered to learn more about what happens to their data with priming / a reason given \"to learn more about your data\" and (5) a privacy condition in which users are offered to learn more about what happens to their data without priming. \n",
    "\n",
    "In condition (2) privacy control *with priming* the chatbot asks users at the end of an interaction \"Do you want me to delete your data from this interaction now to protect your privacy?\".  In the privacy condition (3) *without priming* the chatbot asks users at the end of an interaction \"Do you want me to delete your data from this interaction now?\". The responses of the chatbot are the same in condition (2) and (3).\n",
    "\n",
    "In condition (4) privacy data transparency *with priming* the chatbot asks users at the end of an interaction \"Do you want to know how your data is processed to be more informed about your data?\".  In the privacy data transparency condition (5) *without priming* the chatbot asks users at the end of an interaction \"Do you want to know how your data is processed?\". The responses of the chatbot are the same in condition (4) and (5).\n",
    "\n",
    "In the control condition the chatbot asks users at the end of the interaction \"Is there anything else I can help you with?\". Except of this the interactions are the same. Users are told that they are interacting with a banking chatbot and their task is to check the balance of a credit card ending with 5678 for the past three months. "
   ]
  },
  {
   "cell_type": "code",
   "execution_count": 1,
   "metadata": {},
   "outputs": [],
   "source": [
    "import pandas as pd\n",
    "import numpy as np\n",
    "\n",
    "import matplotlib.pyplot as plt\n",
    "import seaborn as sns\n",
    "\n",
    "%matplotlib inline\n"
   ]
  },
  {
   "cell_type": "code",
   "execution_count": null,
   "metadata": {},
   "outputs": [],
   "source": [
    "df = pd.read_csv('Bank_Privacy_Dialogue_results_180620.csv')"
   ]
  },
  {
   "cell_type": "code",
   "execution_count": null,
   "metadata": {},
   "outputs": [],
   "source": [
    "df_new1 = pd.read_csv('Bank_Privacy_Dialogue_Priming_results_230620.csv')\n",
    "df_new2 = pd.read_csv('Bank_Privacy_Dialogue_Priming_results_010720.csv')\n",
    "\n"
   ]
  },
  {
   "cell_type": "code",
   "execution_count": 4,
   "metadata": {},
   "outputs": [],
   "source": [
    "df = df.append(df_new1, ignore_index = True)\n",
    "df = df.append(df_new2, ignore_index = True)\n"
   ]
  },
  {
   "cell_type": "code",
   "execution_count": 5,
   "metadata": {},
   "outputs": [
    {
     "data": {
      "text/plain": [
       "312"
      ]
     },
     "execution_count": 5,
     "metadata": {},
     "output_type": "execute_result"
    }
   ],
   "source": [
    "len(df)"
   ]
  },
  {
   "cell_type": "code",
   "execution_count": null,
   "metadata": {},
   "outputs": [],
   "source": [
    "def find_multi_participant(l_workerid: list, l_assignmentid: list):\n",
    "    d = {}\n",
    "    multi_participation_assignmentid = []\n",
    "    \n",
    "    for i in list(range(len(l_workerid))):\n",
    "        # if key doesn't exist\n",
    "        if l_workerid[i] not in d.keys():\n",
    "            d[l_workerid[i]] = 1\n",
    "        else:\n",
    "            d[l_workerid[i]] += 1\n",
    "            multi_participation_assignmentid.append(l_assignmentid[i])\n",
    "            \n",
    "    return multi_participation_assignmentid"
   ]
  },
  {
   "cell_type": "code",
   "execution_count": 7,
   "metadata": {},
   "outputs": [
    {
     "data": {
      "text/plain": [
       "['3W92K5RLWVK57UEWC4PAXBCUXRS5V1',\n",
       " '3X4JMASXCNCR39UPAHSYF4MWDR10B5',\n",
       " '3R08VXYT7DYX9NSKQ793HX94V6P7WS',\n",
       " '3A4TN5196LLLOESRMPVEWGRVHT4HCW',\n",
       " '3E1QT0TDFQCJ86DYBVXUU6WRRFY8IA',\n",
       " '3M81GAB8A1MFR2ZORFMDUADEQVYQBS',\n",
       " '36PW28KO40ZLBP4RCARH5I4UPAQAE6',\n",
       " '34QN5IT0T0U81BWI758OO2WV5LG086',\n",
       " '34S9DKFK74SQ1DF7LF8GYRGA6TTNYH',\n",
       " '3FFJ6VRIL2R1QH8VGRKF1RQ98HL0IE',\n",
       " '3OS4RQUCRAII0D9FDZBJIB90JUUFBU',\n",
       " '3PM8NZGV8ZJM452PWBEVJ7469ZRQX8',\n",
       " '32UTUBMZ7HZ7WAV5DEGN0XCM7NDVBR',\n",
       " '3P59JYT76MNYV5RKPQNXYMLXGXST2H']"
      ]
     },
     "execution_count": 7,
     "metadata": {},
     "output_type": "execute_result"
    }
   ],
   "source": [
    "multi_participation = find_multi_participant(list(df['workerid']), list(df['assignmentid']))\n",
    "multi_participation"
   ]
  },
  {
   "cell_type": "code",
   "execution_count": 8,
   "metadata": {},
   "outputs": [],
   "source": [
    "multi_participation = find_multi_participant(list(df['workerid']), list(df['assignmentid']))\n",
    "\n",
    "df['multi_participation'] = df['assignmentid'].apply(lambda a_id: a_id in multi_participation)"
   ]
  },
  {
   "cell_type": "code",
   "execution_count": 9,
   "metadata": {},
   "outputs": [
    {
     "data": {
      "text/plain": [
       "14"
      ]
     },
     "execution_count": 9,
     "metadata": {},
     "output_type": "execute_result"
    }
   ],
   "source": [
    "len(df[df['multi_participation'] == True])"
   ]
  },
  {
   "cell_type": "code",
   "execution_count": null,
   "metadata": {},
   "outputs": [
    {
     "ename": "",
     "evalue": "",
     "output_type": "error",
     "traceback": [
      "\u001b[1;31mRunning cells with 'Python 3.9.12 64-bit' requires ipykernel package.\n",
      "Run the following command to install 'ipykernel' into the Python environment. \n",
      "Command: '/usr/local/bin/python3 -m pip install ipykernel -U --user --force-reinstall'"
     ]
    }
   ],
   "source": [
    "df.head()"
   ]
  },
  {
   "cell_type": "code",
   "execution_count": null,
   "metadata": {},
   "outputs": [
    {
     "ename": "",
     "evalue": "",
     "output_type": "error",
     "traceback": [
      "\u001b[1;31mRunning cells with 'Python 3.9.12 64-bit' requires ipykernel package.\n",
      "Run the following command to install 'ipykernel' into the Python environment. \n",
      "Command: '/usr/local/bin/python3 -m pip install ipykernel -U --user --force-reinstall'"
     ]
    }
   ],
   "source": [
    "df.columns"
   ]
  },
  {
   "cell_type": "markdown",
   "metadata": {},
   "source": [
    "## Feature Engineering\n",
    "\n",
    "Create feature **q_total** with items: 'q_SEC1', 'q_SEC2', 'q_SEC5',\n",
    "       'q_SEC6', 'q_SEC7', 'q_SEC8', 'q_PRIV1', 'q_PRIV2', 'q_PRIV3',\n",
    "       'q_PRIV4', 'q_PRIV5', 'q_PRIV6', 'q_USAB1', 'q_USAB2', 'q_USAB3',\n",
    "       'q_USAB4', 'q_USAB5', 'q_USAB7', 'q_TRUST_HON1', 'q_TRUST_HON2',\n",
    "       'q_TRUST_HON3', 'q_TRUST_HON4', 'q_TRUST_HON5', 'q_TRUST_BENEV1',\n",
    "       'q_TRUST_BENEV2', 'q_TRUST_BENEV3', 'q_TRUST_BENEV4', 'q_TRUST_BENEV5',\n",
    "       'q_TRUST_BENEV6', 'q_TRUST_COMP1', 'q_TRUST_COMP2', 'q_TRUST_COMP3',\n",
    "       'q_TRUST_COMP4', 'q_COMMIT2', 'q_COMMIT3', 'q_COMMIT5'\n",
    "       \n",
    "Create feature **q_security** with items: 'q_SEC1', 'q_SEC2', 'q_SEC5', 'q_SEC6', 'q_SEC7', 'q_SEC8'\n",
    "\n",
    "Create feature **q_privacy** with items: 'q_PRIV1', 'q_PRIV2', 'q_PRIV3', 'q_PRIV4', 'q_PRIV5', 'q_PRIV6'\n",
    "\n",
    "Create feature **q_usability** with items: 'q_USAB1', 'q_USAB2', 'q_USAB3', 'q_USAB4', 'q_USAB5', 'q_USAB7'\n",
    "\n",
    "Create feature **q_trust** with items: 'q_TRUST_HON1', 'q_TRUST_HON2','q_TRUST_HON3', 'q_TRUST_HON4', 'q_TRUST_HON5', 'q_TRUST_BENEV1','q_TRUST_BENEV2', 'q_TRUST_BENEV3', 'q_TRUST_BENEV4', 'q_TRUST_BENEV5', 'q_TRUST_BENEV6', 'q_TRUST_COMP1', 'q_TRUST_COMP2', 'q_TRUST_COMP3', 'q_TRUST_COMP4'\n",
    "\n",
    "Create feature **q_trust_honest** with items: 'q_TRUST_HON1', 'q_TRUST_HON2','q_TRUST_HON3', 'q_TRUST_HON4', 'q_TRUST_HON5'\n",
    "\n",
    "Create feature **q_trust_benevolence** with items: 'q_TRUST_BENEV1','q_TRUST_BENEV2', 'q_TRUST_BENEV3', 'q_TRUST_BENEV4', 'q_TRUST_BENEV5', 'q_TRUST_BENEV6'\n",
    "\n",
    "Create feature **q_trust_competence** with items: 'q_TRUST_COMP1', 'q_TRUST_COMP2', 'q_TRUST_COMP3', 'q_TRUST_COMP4'\n",
    "\n",
    "Create feature **q_commitment** containing an average of items: 'q_COMMIT2', 'q_COMMIT3', 'q_COMMIT5'.\n",
    "\n",
    "Create featue **number_of_errors** containing the number of errors."
   ]
  },
  {
   "cell_type": "code",
   "execution_count": 12,
   "metadata": {},
   "outputs": [],
   "source": [
    "q_total = ['q_SEC1', 'q_SEC2', 'q_SEC5', 'q_SEC6', 'q_SEC7', 'q_SEC8', 'q_PRIV1', 'q_PRIV2', 'q_PRIV3', 'q_PRIV4', 'q_PRIV5', 'q_PRIV6', 'q_USAB1', 'q_USAB2', 'q_USAB3', 'q_USAB4', 'q_USAB5', 'q_USAB7', 'q_TRUST_HON1', 'q_TRUST_HON2', 'q_TRUST_HON3', 'q_TRUST_HON4', 'q_TRUST_HON5', 'q_TRUST_BENEV1', 'q_TRUST_BENEV2', 'q_TRUST_BENEV3', 'q_TRUST_BENEV4', 'q_TRUST_BENEV5', 'q_TRUST_BENEV6', 'q_TRUST_COMP1', 'q_TRUST_COMP2', 'q_TRUST_COMP3', 'q_TRUST_COMP4', 'q_COMMIT2', 'q_COMMIT3', 'q_COMMIT5']\n",
    "df['q_total'] = df[q_total].mean(axis=1)\n"
   ]
  },
  {
   "cell_type": "code",
   "execution_count": 13,
   "metadata": {},
   "outputs": [],
   "source": [
    "q_security = ['q_SEC1', 'q_SEC2', 'q_SEC5', 'q_SEC6', 'q_SEC7', 'q_SEC8']\n",
    "df['q_security'] = df[q_security].mean(axis = 1)\n"
   ]
  },
  {
   "cell_type": "code",
   "execution_count": 14,
   "metadata": {},
   "outputs": [],
   "source": [
    "q_privacy = ['q_PRIV1', 'q_PRIV2', 'q_PRIV3', 'q_PRIV4', 'q_PRIV5', 'q_PRIV6']\n",
    "df['q_privacy'] = df[q_privacy].mean(axis=1)\n"
   ]
  },
  {
   "cell_type": "code",
   "execution_count": 15,
   "metadata": {},
   "outputs": [],
   "source": [
    "q_usability = ['q_USAB1', 'q_USAB2', 'q_USAB3', 'q_USAB4', 'q_USAB5', 'q_USAB7']\n",
    "df['q_usability'] = df[q_usability].mean(axis=1)\n"
   ]
  },
  {
   "cell_type": "code",
   "execution_count": 16,
   "metadata": {},
   "outputs": [],
   "source": [
    "q_trust = ['q_TRUST_HON1', 'q_TRUST_HON2','q_TRUST_HON3', 'q_TRUST_HON4', 'q_TRUST_HON5', 'q_TRUST_BENEV1','q_TRUST_BENEV2', 'q_TRUST_BENEV3', 'q_TRUST_BENEV4', 'q_TRUST_BENEV5', 'q_TRUST_BENEV6', 'q_TRUST_COMP1', 'q_TRUST_COMP2', 'q_TRUST_COMP3', 'q_TRUST_COMP4']\n",
    "df['q_trust'] = df[q_trust].mean(axis=1)\n"
   ]
  },
  {
   "cell_type": "code",
   "execution_count": 17,
   "metadata": {},
   "outputs": [],
   "source": [
    "q_trust_honest = ['q_TRUST_HON1', 'q_TRUST_HON2','q_TRUST_HON3', 'q_TRUST_HON4', 'q_TRUST_HON5']\n",
    "df['q_trust_honest'] = df[q_trust_honest].mean(axis=1)"
   ]
  },
  {
   "cell_type": "code",
   "execution_count": 18,
   "metadata": {},
   "outputs": [],
   "source": [
    "q_trust_benevolence = ['q_TRUST_BENEV1','q_TRUST_BENEV2', 'q_TRUST_BENEV3', 'q_TRUST_BENEV4', 'q_TRUST_BENEV5', 'q_TRUST_BENEV6']\n",
    "df['q_trust_benevolence'] = df[q_trust_benevolence].mean(axis=1)"
   ]
  },
  {
   "cell_type": "code",
   "execution_count": 19,
   "metadata": {},
   "outputs": [],
   "source": [
    "q_trust_competence = ['q_TRUST_COMP1', 'q_TRUST_COMP2', 'q_TRUST_COMP3', 'q_TRUST_COMP4']\n",
    "df['q_trust_competence'] = df[q_trust_competence].mean(axis=1)"
   ]
  },
  {
   "cell_type": "code",
   "execution_count": 20,
   "metadata": {},
   "outputs": [],
   "source": [
    "q_commitment = ['q_COMMIT2', 'q_COMMIT3', 'q_COMMIT5']\n",
    "df['q_commitment'] = df[q_commitment].mean(axis=1)"
   ]
  },
  {
   "cell_type": "code",
   "execution_count": 21,
   "metadata": {},
   "outputs": [],
   "source": [
    "df['number_of_errors'] = df['transcript'].apply(lambda string: string.count('Sorry'))"
   ]
  },
  {
   "cell_type": "markdown",
   "metadata": {},
   "source": [
    "## Data cleaning"
   ]
  },
  {
   "cell_type": "code",
   "execution_count": 22,
   "metadata": {},
   "outputs": [
    {
     "data": {
      "text/plain": [
       "307"
      ]
     },
     "execution_count": 22,
     "metadata": {},
     "output_type": "execute_result"
    }
   ],
   "source": [
    "df = df[df['response_yn'] != 'yes|no']\n",
    "len(df)"
   ]
  },
  {
   "cell_type": "code",
   "execution_count": 23,
   "metadata": {},
   "outputs": [
    {
     "data": {
      "text/plain": [
       "297"
      ]
     },
     "execution_count": 23,
     "metadata": {},
     "output_type": "execute_result"
    }
   ],
   "source": [
    "df = df[df['response_yn'] != 'yes|yes']\n",
    "len(df)"
   ]
  },
  {
   "cell_type": "code",
   "execution_count": 24,
   "metadata": {},
   "outputs": [
    {
     "data": {
      "text/plain": [
       "283"
      ]
     },
     "execution_count": 24,
     "metadata": {},
     "output_type": "execute_result"
    }
   ],
   "source": [
    "df = df[df['multi_participation'] != True]\n",
    "len(df)"
   ]
  },
  {
   "cell_type": "code",
   "execution_count": 25,
   "metadata": {},
   "outputs": [
    {
     "data": {
      "text/plain": [
       "21"
      ]
     },
     "execution_count": 25,
     "metadata": {},
     "output_type": "execute_result"
    }
   ],
   "source": [
    "len(df[df['condition'] == 'data_priming'])"
   ]
  },
  {
   "cell_type": "markdown",
   "metadata": {},
   "source": [
    "# Analysis"
   ]
  },
  {
   "cell_type": "markdown",
   "metadata": {},
   "source": [
    "## Do privacy messages affect privacy and security perceptions?"
   ]
  },
  {
   "cell_type": "markdown",
   "metadata": {},
   "source": [
    "To address this question, we will compare the control group with condition (2) privacy control and (4) privacy data transparency."
   ]
  },
  {
   "cell_type": "code",
   "execution_count": 26,
   "metadata": {},
   "outputs": [],
   "source": [
    "df_124 = df[(df['condition'] == \"control\") | (df['condition'] == \"privacy_priming\") | (df['condition'] == \"data_priming\")]"
   ]
  },
  {
   "cell_type": "code",
   "execution_count": 27,
   "metadata": {},
   "outputs": [
    {
     "data": {
      "text/plain": [
       "4     control\n",
       "6     control\n",
       "9     control\n",
       "11    control\n",
       "12    control\n",
       "Name: condition, dtype: object"
      ]
     },
     "execution_count": 27,
     "metadata": {},
     "output_type": "execute_result"
    }
   ],
   "source": [
    "df_124['condition'].head()"
   ]
  },
  {
   "cell_type": "markdown",
   "metadata": {},
   "source": [
    "### Plotting"
   ]
  },
  {
   "cell_type": "code",
   "execution_count": 28,
   "metadata": {},
   "outputs": [
    {
     "data": {
      "text/plain": [
       "[Text(0, 0.5, 'Commitment for chatbot'), Text(0.5, 0, 'Conditions')]"
      ]
     },
     "execution_count": 28,
     "metadata": {},
     "output_type": "execute_result"
    },
    {
     "data": {
      "image/png": "[encoded data removed]",
      "text/plain": [
       "<Figure size 1440x1440 with 6 Axes>"
      ]
     },
     "metadata": {
      "needs_background": "light"
     },
     "output_type": "display_data"
    }
   ],
   "source": [
    "fig, axes = plt.subplots(3,2, figsize = (20,20))\n",
    "\n",
    "sns.boxplot(x = 'condition', y = 'q_total', data = df, ax = axes[0,0], order=[\"control\", \"privacy_priming\", \"data_priming\"])\n",
    "axes[0,0].axhline(np.mean(df[df['condition'] == 'control']['q_total']), ls='--', color = 'red')\n",
    "axes[0,0].set(xlabel = 'Conditions', ylabel = 'Average across all scales')\n",
    "sns.boxplot(x = 'condition', y = 'q_trust', data = df, ax = axes[0,1], order=[\"control\", \"privacy_priming\", \"data_priming\"])\n",
    "axes[0,1].axhline(np.mean(df[df['condition'] == 'control']['q_trust']), ls='--', color = 'red')\n",
    "axes[0,1].set(xlabel = 'Conditions', ylabel = 'Trust in chatbot')\n",
    "sns.boxplot(x = 'condition', y = 'q_privacy', data = df, ax = axes[1,0], order=[\"control\", \"privacy_priming\", \"data_priming\"])\n",
    "axes[1,0].axhline(np.mean(df[df['condition'] == 'control']['q_privacy']), ls='--', color = 'red')\n",
    "axes[1,0].set(xlabel = 'Conditions', ylabel = 'Privacy perception of chatbot')\n",
    "sns.boxplot(x = 'condition', y = 'q_security', data = df, ax = axes[1,1], order=[\"control\", \"privacy_priming\", \"data_priming\"])\n",
    "axes[1,1].axhline(np.mean(df[df['condition'] == 'control']['q_security']), ls='--', color = 'red')\n",
    "axes[1,1].set(xlabel = 'Conditions', ylabel = 'Security perception of chatbot')\n",
    "sns.boxplot(x = 'condition', y = 'q_usability', data = df, ax = axes[2,0], order=[\"control\", \"privacy_priming\", \"data_priming\"])\n",
    "axes[2,0].axhline(np.mean(df[df['condition'] == 'control']['q_usability']), ls='--', color = 'red')\n",
    "axes[2,0].set(xlabel = 'Conditions', ylabel = 'Usability of chatbot')\n",
    "sns.boxplot(x = 'condition', y = 'q_commitment', data = df, ax = axes[2,1], order=[\"control\", \"privacy_priming\", \"data_priming\"])\n",
    "axes[2,1].axhline(np.mean(df[df['condition'] == 'control']['q_commitment']), ls='--', color = 'red')\n",
    "axes[2,1].set(xlabel = 'Conditions', ylabel = 'Commitment for chatbot')"
   ]
  },
  {
   "cell_type": "markdown",
   "metadata": {},
   "source": [
    "### T-Tests for Average across all scales"
   ]
  },
  {
   "cell_type": "code",
   "execution_count": 29,
   "metadata": {},
   "outputs": [],
   "source": [
    "from statsmodels.stats.power import TTestIndPower\n",
    "from scipy.stats import ttest_ind"
   ]
  },
  {
   "cell_type": "code",
   "execution_count": 30,
   "metadata": {},
   "outputs": [
    {
     "data": {
      "text/plain": [
       "Ttest_indResult(statistic=1.9252706012000365, pvalue=0.0562231849246068)"
      ]
     },
     "execution_count": 30,
     "metadata": {},
     "output_type": "execute_result"
    }
   ],
   "source": [
    "ttest_ind(df[df['condition']=='privacy_priming']['q_total'], df[df['condition']=='control']['q_total'])"
   ]
  },
  {
   "cell_type": "code",
   "execution_count": 31,
   "metadata": {},
   "outputs": [
    {
     "data": {
      "text/plain": [
       "Ttest_indResult(statistic=0.558435852843213, pvalue=0.5777357071133943)"
      ]
     },
     "execution_count": 31,
     "metadata": {},
     "output_type": "execute_result"
    }
   ],
   "source": [
    "ttest_ind(df[df['condition']=='data_priming']['q_total'], df[df['condition']=='control']['q_total'])"
   ]
  },
  {
   "cell_type": "code",
   "execution_count": 32,
   "metadata": {},
   "outputs": [
    {
     "data": {
      "text/plain": [
       "Ttest_indResult(statistic=-0.8528441342017983, pvalue=0.3964611608331897)"
      ]
     },
     "execution_count": 32,
     "metadata": {},
     "output_type": "execute_result"
    }
   ],
   "source": [
    "ttest_ind(df[df['condition']=='data_priming']['q_total'], df[df['condition']=='privacy_priming']['q_total'])"
   ]
  },
  {
   "cell_type": "markdown",
   "metadata": {},
   "source": [
    "### T-Tests for Privacy Perceptions"
   ]
  },
  {
   "cell_type": "code",
   "execution_count": 33,
   "metadata": {},
   "outputs": [
    {
     "data": {
      "text/plain": [
       "Ttest_indResult(statistic=2.81895941375077, pvalue=0.005516686829825681)"
      ]
     },
     "execution_count": 33,
     "metadata": {},
     "output_type": "execute_result"
    }
   ],
   "source": [
    "ttest_ind(df[df['condition']=='privacy_priming']['q_privacy'], df[df['condition']=='control']['q_privacy'])"
   ]
  },
  {
   "cell_type": "code",
   "execution_count": 34,
   "metadata": {},
   "outputs": [
    {
     "data": {
      "text/plain": [
       "Ttest_indResult(statistic=0.967595114243428, pvalue=0.33547007138943596)"
      ]
     },
     "execution_count": 34,
     "metadata": {},
     "output_type": "execute_result"
    }
   ],
   "source": [
    "ttest_ind(df[df['condition']=='data_priming']['q_privacy'], df[df['condition']=='control']['q_privacy'])"
   ]
  },
  {
   "cell_type": "code",
   "execution_count": 35,
   "metadata": {},
   "outputs": [
    {
     "data": {
      "text/plain": [
       "Ttest_indResult(statistic=-0.8528441342017983, pvalue=0.3964611608331897)"
      ]
     },
     "execution_count": 35,
     "metadata": {},
     "output_type": "execute_result"
    }
   ],
   "source": [
    "ttest_ind(df[df['condition']=='data_priming']['q_total'], df[df['condition']=='privacy_priming']['q_total'])"
   ]
  },
  {
   "cell_type": "markdown",
   "metadata": {},
   "source": [
    "#### Power Analysis for Privacy Perceptions"
   ]
  },
  {
   "cell_type": "code",
   "execution_count": 36,
   "metadata": {},
   "outputs": [
    {
     "data": {
      "text/plain": [
       "0.23551939802799535"
      ]
     },
     "execution_count": 36,
     "metadata": {},
     "output_type": "execute_result"
    }
   ],
   "source": [
    "import pingouin as pg\n",
    "pg.compute_effsize(df[df['condition']=='data_priming']['q_privacy'], df[df['condition']=='control']['q_privacy'], eftype='cohen')"
   ]
  },
  {
   "cell_type": "code",
   "execution_count": 37,
   "metadata": {},
   "outputs": [
    {
     "name": "stdout",
     "output_type": "stream",
     "text": [
      "Required sample size: 283.96\n"
     ]
    },
    {
     "name": "stderr",
     "output_type": "stream",
     "text": [
      "/opt/anaconda3/lib/python3.7/site-packages/outdated/utils.py:18: OutdatedPackageWarning: The package pingouin is out of date. Your version is 0.3.5, the latest is 0.3.6.\n",
      "Set the environment variable OUTDATED_IGNORE=1 to disable these warnings.\n",
      "  **kwargs\n"
     ]
    }
   ],
   "source": [
    "# parameters for the analysis \n",
    "effect_size = 0.23551939802799535\n",
    "alpha = 0.05 # significance level\n",
    "power = 0.8\n",
    "\n",
    "power_analysis = TTestIndPower()\n",
    "sample_size = power_analysis.solve_power(effect_size = effect_size, \n",
    "                                         power = power, \n",
    "                                         alpha = alpha)\n",
    "\n",
    "print('Required sample size: {0:.2f}'.format(sample_size))"
   ]
  },
  {
   "cell_type": "markdown",
   "metadata": {},
   "source": [
    "### T-Tests for Security Perceptions"
   ]
  },
  {
   "cell_type": "code",
   "execution_count": 39,
   "metadata": {},
   "outputs": [
    {
     "data": {
      "text/plain": [
       "Ttest_indResult(statistic=2.3454493457447505, pvalue=0.020408280863130894)"
      ]
     },
     "execution_count": 39,
     "metadata": {},
     "output_type": "execute_result"
    }
   ],
   "source": [
    "ttest_ind(df[df['condition']=='privacy_priming']['q_security'], df[df['condition']=='control']['q_security'])"
   ]
  },
  {
   "cell_type": "code",
   "execution_count": 40,
   "metadata": {},
   "outputs": [
    {
     "data": {
      "text/plain": [
       "Ttest_indResult(statistic=1.3493309110106282, pvalue=0.1801330650085039)"
      ]
     },
     "execution_count": 40,
     "metadata": {},
     "output_type": "execute_result"
    }
   ],
   "source": [
    "ttest_ind(df[df['condition']=='data_priming']['q_security'], df[df['condition']=='control']['q_security'])"
   ]
  },
  {
   "cell_type": "code",
   "execution_count": 41,
   "metadata": {},
   "outputs": [
    {
     "data": {
      "text/plain": [
       "Ttest_indResult(statistic=-0.313031154723372, pvalue=0.7551258198072104)"
      ]
     },
     "execution_count": 41,
     "metadata": {},
     "output_type": "execute_result"
    }
   ],
   "source": [
    "ttest_ind(df[df['condition']=='data_priming']['q_security'], df[df['condition']=='privacy_priming']['q_security'])"
   ]
  },
  {
   "cell_type": "markdown",
   "metadata": {},
   "source": [
    "#### Power Analysis for Security Perceptions"
   ]
  },
  {
   "cell_type": "code",
   "execution_count": 42,
   "metadata": {},
   "outputs": [
    {
     "data": {
      "text/plain": [
       "0.32843655287601936"
      ]
     },
     "execution_count": 42,
     "metadata": {},
     "output_type": "execute_result"
    }
   ],
   "source": [
    "pg.compute_effsize(df[df['condition']=='data_priming']['q_security'], df[df['condition']=='control']['q_security'], eftype='cohen')"
   ]
  },
  {
   "cell_type": "code",
   "execution_count": 43,
   "metadata": {},
   "outputs": [
    {
     "name": "stdout",
     "output_type": "stream",
     "text": [
      "Required sample size: 146.49\n"
     ]
    }
   ],
   "source": [
    "# parameters for the analysis \n",
    "effect_size = 0.32843655287601936\n",
    "alpha = 0.05 # significance level\n",
    "power = 0.8\n",
    "\n",
    "power_analysis = TTestIndPower()\n",
    "sample_size = power_analysis.solve_power(effect_size = effect_size, \n",
    "                                         power = power, \n",
    "                                         alpha = alpha)\n",
    "\n",
    "print('Required sample size: {0:.2f}'.format(sample_size))"
   ]
  },
  {
   "cell_type": "markdown",
   "metadata": {},
   "source": [
    "### T-Tests for Trust"
   ]
  },
  {
   "cell_type": "code",
   "execution_count": 47,
   "metadata": {},
   "outputs": [
    {
     "data": {
      "text/plain": [
       "Ttest_indResult(statistic=1.65164951140489, pvalue=0.1008472829206181)"
      ]
     },
     "execution_count": 47,
     "metadata": {},
     "output_type": "execute_result"
    }
   ],
   "source": [
    "ttest_ind(df[df['condition']=='privacy_priming']['q_trust'], df[df['condition']=='control']['q_trust'])"
   ]
  },
  {
   "cell_type": "code",
   "execution_count": 48,
   "metadata": {},
   "outputs": [
    {
     "data": {
      "text/plain": [
       "Ttest_indResult(statistic=0.5226663835740567, pvalue=0.602307533997079)"
      ]
     },
     "execution_count": 48,
     "metadata": {},
     "output_type": "execute_result"
    }
   ],
   "source": [
    "ttest_ind(df[df['condition']=='data_priming']['q_trust'], df[df['condition']=='control']['q_trust'])"
   ]
  },
  {
   "cell_type": "code",
   "execution_count": 49,
   "metadata": {},
   "outputs": [
    {
     "data": {
      "text/plain": [
       "Ttest_indResult(statistic=-0.6538417160759298, pvalue=0.5152135734059122)"
      ]
     },
     "execution_count": 49,
     "metadata": {},
     "output_type": "execute_result"
    }
   ],
   "source": [
    "ttest_ind(df[df['condition']=='data_priming']['q_trust'], df[df['condition']=='privacy_priming']['q_trust'])"
   ]
  },
  {
   "cell_type": "markdown",
   "metadata": {},
   "source": [
    "### T-Tests for Usability"
   ]
  },
  {
   "cell_type": "code",
   "execution_count": 50,
   "metadata": {},
   "outputs": [
    {
     "data": {
      "text/plain": [
       "Ttest_indResult(statistic=-0.0859400077776535, pvalue=0.9316368927546855)"
      ]
     },
     "execution_count": 50,
     "metadata": {},
     "output_type": "execute_result"
    }
   ],
   "source": [
    "ttest_ind(df[df['condition']=='privacy_priming']['q_usability'], df[df['condition']=='control']['q_usability'])"
   ]
  },
  {
   "cell_type": "code",
   "execution_count": 51,
   "metadata": {},
   "outputs": [
    {
     "data": {
      "text/plain": [
       "Ttest_indResult(statistic=-0.9317014155608607, pvalue=0.3536282045866268)"
      ]
     },
     "execution_count": 51,
     "metadata": {},
     "output_type": "execute_result"
    }
   ],
   "source": [
    "ttest_ind(df[df['condition']=='data_priming']['q_usability'], df[df['condition']=='control']['q_usability'])"
   ]
  },
  {
   "cell_type": "code",
   "execution_count": 52,
   "metadata": {},
   "outputs": [
    {
     "data": {
      "text/plain": [
       "Ttest_indResult(statistic=-1.0532908147697357, pvalue=0.2955893329699392)"
      ]
     },
     "execution_count": 52,
     "metadata": {},
     "output_type": "execute_result"
    }
   ],
   "source": [
    "ttest_ind(df[df['condition']=='data_priming']['q_usability'], df[df['condition']=='privacy_priming']['q_usability'])"
   ]
  },
  {
   "cell_type": "markdown",
   "metadata": {},
   "source": [
    "### T-Tests for Commitment"
   ]
  },
  {
   "cell_type": "code",
   "execution_count": 53,
   "metadata": {},
   "outputs": [
    {
     "data": {
      "text/plain": [
       "Ttest_indResult(statistic=1.2479023183117275, pvalue=0.21414998248555733)"
      ]
     },
     "execution_count": 53,
     "metadata": {},
     "output_type": "execute_result"
    }
   ],
   "source": [
    "ttest_ind(df[df['condition']=='privacy_priming']['q_commitment'], df[df['condition']=='control']['q_commitment'])"
   ]
  },
  {
   "cell_type": "code",
   "execution_count": 54,
   "metadata": {},
   "outputs": [
    {
     "data": {
      "text/plain": [
       "Ttest_indResult(statistic=0.09319109566646706, pvalue=0.9259293340392893)"
      ]
     },
     "execution_count": 54,
     "metadata": {},
     "output_type": "execute_result"
    }
   ],
   "source": [
    "ttest_ind(df[df['condition']=='data_priming']['q_commitment'], df[df['condition']=='control']['q_commitment'])"
   ]
  },
  {
   "cell_type": "code",
   "execution_count": 55,
   "metadata": {},
   "outputs": [
    {
     "data": {
      "text/plain": [
       "Ttest_indResult(statistic=-0.8729290095794688, pvalue=0.38548804348733146)"
      ]
     },
     "execution_count": 55,
     "metadata": {},
     "output_type": "execute_result"
    }
   ],
   "source": [
    "ttest_ind(df[df['condition']=='data_priming']['q_commitment'], df[df['condition']=='privacy_priming']['q_commitment'])"
   ]
  },
  {
   "cell_type": "markdown",
   "metadata": {},
   "source": [
    "## Do privacy messages affect user choices?"
   ]
  },
  {
   "cell_type": "code",
   "execution_count": 56,
   "metadata": {},
   "outputs": [
    {
     "data": {
      "text/html": [
       "<div>\n",
       "<style scoped>\n",
       "    .dataframe tbody tr th:only-of-type {\n",
       "        vertical-align: middle;\n",
       "    }\n",
       "\n",
       "    .dataframe tbody tr th {\n",
       "        vertical-align: top;\n",
       "    }\n",
       "\n",
       "    .dataframe thead th {\n",
       "        text-align: right;\n",
       "    }\n",
       "</style>\n",
       "<table border=\"1\" class=\"dataframe\">\n",
       "  <thead>\n",
       "    <tr style=\"text-align: right;\">\n",
       "      <th></th>\n",
       "      <th>Yes</th>\n",
       "      <th>No</th>\n",
       "    </tr>\n",
       "  </thead>\n",
       "  <tbody>\n",
       "    <tr>\n",
       "      <td>control</td>\n",
       "      <td>0.104651</td>\n",
       "      <td>0.895349</td>\n",
       "    </tr>\n",
       "    <tr>\n",
       "      <td>privacy_priming</td>\n",
       "      <td>0.785714</td>\n",
       "      <td>0.214286</td>\n",
       "    </tr>\n",
       "    <tr>\n",
       "      <td>data_priming</td>\n",
       "      <td>0.571429</td>\n",
       "      <td>0.428571</td>\n",
       "    </tr>\n",
       "  </tbody>\n",
       "</table>\n",
       "</div>"
      ],
      "text/plain": [
       "                      Yes        No\n",
       "control          0.104651  0.895349\n",
       "privacy_priming  0.785714  0.214286\n",
       "data_priming     0.571429  0.428571"
      ]
     },
     "execution_count": 56,
     "metadata": {},
     "output_type": "execute_result"
    }
   ],
   "source": [
    "percentages = []\n",
    "conditions = [\"control\", \"privacy_priming\", \"data_priming\"]\n",
    "\n",
    "for c in conditions:\n",
    "    percentages.append((len(df[(df['condition'] == c) & (df['response_yn'] == \"yes\")])/len(df[(df['condition'] == c)]), \n",
    "                       len(df[(df['condition'] == c) & (df['response_yn'] == \"no\")])/len(df[(df['condition'] == c)])))\n",
    "\n",
    "df_percentages = pd.DataFrame(percentages, index = conditions, columns = ['Yes', 'No'])\n",
    "df_percentages"
   ]
  },
  {
   "cell_type": "code",
   "execution_count": 57,
   "metadata": {},
   "outputs": [
    {
     "data": {
      "text/plain": [
       "<matplotlib.legend.Legend at 0x1c24c86650>"
      ]
     },
     "execution_count": 57,
     "metadata": {},
     "output_type": "execute_result"
    },
    {
     "data": {
      "image/png": "[encoded data removed]",
      "text/plain": [
       "<Figure size 720x576 with 1 Axes>"
      ]
     },
     "metadata": {
      "needs_background": "light"
     },
     "output_type": "display_data"
    }
   ],
   "source": [
    "\n",
    "yes = df_percentages['Yes']\n",
    "no = df_percentages['No']\n",
    "\n",
    "x = np.arange(len(conditions))  # the label locations\n",
    "width = 0.35  # the width of the bars\n",
    "\n",
    "fig, ax = plt.subplots(figsize = (10,8))\n",
    "rects1 = ax.bar(x + width/2, no, width, label='No')\n",
    "rects2 = ax.bar(x - width/2, yes, width, label='Yes')\n",
    "\n",
    "# Add some text for labels, title and custom x-axis tick labels, etc.\n",
    "ax.set_ylabel('Percentage')\n",
    "ax.set_title('Percentage of chosing \"Yes\" or \"No\"')\n",
    "ax.set_xticks(x)\n",
    "ax.set_xticklabels(conditions)\n",
    "ax.legend()\n"
   ]
  },
  {
   "cell_type": "markdown",
   "metadata": {},
   "source": [
    "## Are privacy and security perceptions influenced by privacy priming?"
   ]
  },
  {
   "cell_type": "code",
   "execution_count": 58,
   "metadata": {},
   "outputs": [],
   "source": [
    "df_delete = df[(df['condition'] == 'privacy_priming') | (df['condition'] == 'privacy_no_priming')]\n",
    "df_info = df[(df['condition'] == 'data_priming') | (df['condition'] == 'data_no_priming')]"
   ]
  },
  {
   "cell_type": "markdown",
   "metadata": {},
   "source": [
    "### Data deletion"
   ]
  },
  {
   "cell_type": "code",
   "execution_count": 59,
   "metadata": {},
   "outputs": [
    {
     "data": {
      "text/plain": [
       "Text(0.5, 1.0, 'Privacy perception for data deletion without and with privacy priming')"
      ]
     },
     "execution_count": 59,
     "metadata": {},
     "output_type": "execute_result"
    },
    {
     "data": {
      "image/png": "[encoded data removed]",
      "text/plain": [
       "<Figure size 720x720 with 1 Axes>"
      ]
     },
     "metadata": {
      "needs_background": "light"
     },
     "output_type": "display_data"
    }
   ],
   "source": [
    "plt.figure(figsize = (10,10))\n",
    "\n",
    "sns.boxplot(x = 'condition', y = 'q_privacy', data = df_delete)\n",
    "plt.title('Privacy perception for data deletion without and with privacy priming')"
   ]
  },
  {
   "cell_type": "code",
   "execution_count": 61,
   "metadata": {},
   "outputs": [
    {
     "data": {
      "text/plain": [
       "Ttest_indResult(statistic=-1.3293200853677911, pvalue=0.18637349874315268)"
      ]
     },
     "execution_count": 61,
     "metadata": {},
     "output_type": "execute_result"
    }
   ],
   "source": [
    "ttest_ind(df_delete[df_delete['condition'] == 'privacy_no_priming']['q_privacy'], \n",
    "                df_delete[df_delete['condition'] == 'privacy_priming']['q_privacy'])"
   ]
  },
  {
   "cell_type": "code",
   "execution_count": 62,
   "metadata": {},
   "outputs": [
    {
     "data": {
      "text/plain": [
       "Text(0.5, 1.0, 'Security perception for data deletion without and with privacy priming')"
      ]
     },
     "execution_count": 62,
     "metadata": {},
     "output_type": "execute_result"
    },
    {
     "data": {
      "image/png": "[encoded data removed]",
      "text/plain": [
       "<Figure size 720x720 with 1 Axes>"
      ]
     },
     "metadata": {
      "needs_background": "light"
     },
     "output_type": "display_data"
    }
   ],
   "source": [
    "plt.figure(figsize = (10,10))\n",
    "\n",
    "sns.boxplot(x = 'condition', y = 'q_security', data = df_delete)\n",
    "plt.title('Security perception for data deletion without and with privacy priming')"
   ]
  },
  {
   "cell_type": "code",
   "execution_count": 63,
   "metadata": {},
   "outputs": [
    {
     "data": {
      "text/plain": [
       "Ttest_indResult(statistic=-0.8427071894175596, pvalue=0.40114148541240846)"
      ]
     },
     "execution_count": 63,
     "metadata": {},
     "output_type": "execute_result"
    }
   ],
   "source": [
    "ttest_ind(df_delete[df_delete['condition'] == 'privacy_no_priming']['q_security'], \n",
    "                df_delete[df_delete['condition'] == 'privacy_priming']['q_security'])"
   ]
  },
  {
   "cell_type": "code",
   "execution_count": 64,
   "metadata": {},
   "outputs": [
    {
     "data": {
      "text/plain": [
       "Text(0.5, 1.0, 'Trust for data deletion without and with privacy priming')"
      ]
     },
     "execution_count": 64,
     "metadata": {},
     "output_type": "execute_result"
    },
    {
     "data": {
      "image/png": "[encoded data removed]",
      "text/plain": [
       "<Figure size 720x720 with 1 Axes>"
      ]
     },
     "metadata": {
      "needs_background": "light"
     },
     "output_type": "display_data"
    }
   ],
   "source": [
    "plt.figure(figsize = (10,10))\n",
    "\n",
    "sns.boxplot(x = 'condition', y = 'q_trust', data = df_delete)\n",
    "plt.title('Trust for data deletion without and with privacy priming')"
   ]
  },
  {
   "cell_type": "code",
   "execution_count": 65,
   "metadata": {},
   "outputs": [
    {
     "data": {
      "text/plain": [
       "Ttest_indResult(statistic=-0.7726934438174597, pvalue=0.4412890287581278)"
      ]
     },
     "execution_count": 65,
     "metadata": {},
     "output_type": "execute_result"
    }
   ],
   "source": [
    "ttest_ind(df_delete[df_delete['condition'] == 'privacy_no_priming']['q_trust'], \n",
    "                df_delete[df_delete['condition'] == 'privacy_priming']['q_trust'])"
   ]
  },
  {
   "cell_type": "markdown",
   "metadata": {},
   "source": [
    "### Data information"
   ]
  },
  {
   "cell_type": "code",
   "execution_count": 66,
   "metadata": {},
   "outputs": [
    {
     "data": {
      "text/plain": [
       "<matplotlib.axes._subplots.AxesSubplot at 0x1c24ecfa90>"
      ]
     },
     "execution_count": 66,
     "metadata": {},
     "output_type": "execute_result"
    },
    {
     "data": {
      "image/png": "[encoded data removed]",
      "text/plain": [
       "<Figure size 720x720 with 1 Axes>"
      ]
     },
     "metadata": {
      "needs_background": "light"
     },
     "output_type": "display_data"
    }
   ],
   "source": [
    "plt.figure(figsize = (10,10))\n",
    "\n",
    "sns.boxplot(x = 'condition', y = 'q_privacy', data = df_info, order = ['data_no_priming', 'data_priming'])"
   ]
  },
  {
   "cell_type": "code",
   "execution_count": 67,
   "metadata": {},
   "outputs": [
    {
     "data": {
      "text/plain": [
       "Ttest_indResult(statistic=-1.8385704997329608, pvalue=0.0732297569166389)"
      ]
     },
     "execution_count": 67,
     "metadata": {},
     "output_type": "execute_result"
    }
   ],
   "source": [
    "ttest_ind(df_info[df_info['condition'] == 'data_no_priming']['q_privacy'], \n",
    "                df_info[df_info['condition'] == 'data_priming']['q_privacy'])"
   ]
  },
  {
   "cell_type": "code",
   "execution_count": 68,
   "metadata": {},
   "outputs": [
    {
     "data": {
      "text/plain": [
       "<matplotlib.axes._subplots.AxesSubplot at 0x1c2513e2d0>"
      ]
     },
     "execution_count": 68,
     "metadata": {},
     "output_type": "execute_result"
    },
    {
     "data": {
      "image/png": "[encoded data removed]",
      "text/plain": [
       "<Figure size 720x720 with 1 Axes>"
      ]
     },
     "metadata": {
      "needs_background": "light"
     },
     "output_type": "display_data"
    }
   ],
   "source": [
    "plt.figure(figsize = (10,10))\n",
    "\n",
    "sns.boxplot(x = 'condition', y = 'q_security', data = df_info, order = ['data_no_priming', 'data_priming'])"
   ]
  },
  {
   "cell_type": "code",
   "execution_count": 69,
   "metadata": {},
   "outputs": [
    {
     "data": {
      "text/plain": [
       "Ttest_indResult(statistic=-2.119907272318167, pvalue=0.040112564195754485)"
      ]
     },
     "execution_count": 69,
     "metadata": {},
     "output_type": "execute_result"
    }
   ],
   "source": [
    "ttest_ind(df_info[df_info['condition'] == 'data_no_priming']['q_security'], \n",
    "                df_info[df_info['condition'] == 'data_priming']['q_security'])"
   ]
  },
  {
   "cell_type": "code",
   "execution_count": 70,
   "metadata": {},
   "outputs": [
    {
     "data": {
      "text/plain": [
       "<matplotlib.axes._subplots.AxesSubplot at 0x1c2556ed90>"
      ]
     },
     "execution_count": 70,
     "metadata": {},
     "output_type": "execute_result"
    },
    {
     "data": {
      "image/png": "[encoded data removed]",
      "text/plain": [
       "<Figure size 720x720 with 1 Axes>"
      ]
     },
     "metadata": {
      "needs_background": "light"
     },
     "output_type": "display_data"
    }
   ],
   "source": [
    "plt.figure(figsize = (10,10))\n",
    "\n",
    "sns.boxplot(x = 'condition', y = 'q_trust', data = df_info, order = ['data_no_priming', 'data_priming'])"
   ]
  },
  {
   "cell_type": "code",
   "execution_count": 71,
   "metadata": {},
   "outputs": [
    {
     "data": {
      "text/plain": [
       "Ttest_indResult(statistic=-1.095064024687223, pvalue=0.2798799642141078)"
      ]
     },
     "execution_count": 71,
     "metadata": {},
     "output_type": "execute_result"
    }
   ],
   "source": [
    "ttest_ind(df_info[df_info['condition'] == 'data_no_priming']['q_trust'], \n",
    "                df_info[df_info['condition'] == 'data_priming']['q_trust'])"
   ]
  },
  {
   "cell_type": "code",
   "execution_count": null,
   "metadata": {},
   "outputs": [],
   "source": []
  }
 ],
 "metadata": {
  "kernelspec": {
   "display_name": "Python 3 (ipykernel)",
   "language": "python",
   "name": "python3"
  },
  "language_info": {
   "codemirror_mode": {
    "name": "ipython",
    "version": 3
   },
   "file_extension": ".py",
   "mimetype": "text/x-python",
   "name": "python",
   "nbconvert_exporter": "python",
   "pygments_lexer": "ipython3",
   "version": "3.9.12"
  }
 },
 "nbformat": 4,
 "nbformat_minor": 2
}
